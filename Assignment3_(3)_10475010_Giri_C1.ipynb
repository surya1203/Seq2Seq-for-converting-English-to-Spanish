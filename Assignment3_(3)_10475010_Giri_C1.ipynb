{
  "cells": [
    {
      "cell_type": "markdown",
      "metadata": {
        "id": "7t3KSmW3BtYF"
      },
      "source": [
        "# Assignment 3: Build a seq2seq model for machine translation.\n",
        "\n",
        "### Name: [Surya Giri]\n",
        "\n",
        "### Task: Change LSTM model to Bidirectional LSTM Model， translate English to target language and evaluate using Bleu score.\n",
        "\n",
        "### Due Date: Tuesday, April 19th, 11:59PM"
      ]
    },
    {
      "cell_type": "markdown",
      "metadata": {
        "id": "GfIJxPE7BtYK"
      },
      "source": [
        "## 0. You will do the following:\n",
        "\n",
        "1. Read and run the code. Please make sure you have installed keras or tensorflow.Running the script on colab will speed up the training process and also prevent package loading issue. \n",
        "2. Complete the code in Section 1.1, you may fill in your data directory.\n",
        "3. Directly modify the code in Section 3. Change the current LSTM layer to a Bidirectional LSTM Model.\n",
        "4. Training your model and translate English to Spanish in Section 4.2. You could try translating other languages.\n",
        "5. Complete the code in Section 5."
      ]
    },
    {
      "cell_type": "markdown",
      "metadata": {
        "id": "Cu-6yZAnBtYM"
      },
      "source": [
        "### Hint: \n",
        "\n",
        "To implement ```Bi-LSTM```, you will need the following code to build the encoder. Do NOT use Bi-LSTM for the decoder. But there are other codes you need to modify to make it work."
      ]
    },
    {
      "cell_type": "code",
      "execution_count": null,
      "metadata": {
        "id": "g11DxuE3BtYO"
      },
      "outputs": [],
      "source": [
        "# from keras.layers import Bidirectional, Concatenate, LSTM\n",
        "\n",
        "# encoder_bilstm = Bidirectional(LSTM(latent_dim, return_state=True, \n",
        "#                                   dropout=0.5, name='encoder_lstm'))\n",
        "# _, forward_h, forward_c, backward_h, backward_c = encoder_bilstm(encoder_inputs)\n",
        "\n",
        "# state_h = Concatenate()([forward_h, backward_h])\n",
        "# state_c = Concatenate()([forward_c, backward_c])"
      ]
    },
    {
      "cell_type": "code",
      "execution_count": null,
      "metadata": {
        "id": "G8TNN5F3BtYQ"
      },
      "outputs": [],
      "source": [
        "from nltk.translate.bleu_score import corpus_bleu\n",
        "from nltk.translate.bleu_score import SmoothingFunction\n",
        "from keras.preprocessing.text import Tokenizer\n",
        "from keras.preprocessing.sequence import pad_sequences\n",
        "from keras.layers import Bidirectional, Concatenate, LSTM\n",
        "from tensorflow.keras.utils import to_categorical\n",
        "from keras.layers import Input, Dense\n",
        "from keras.models import Model\n",
        "from IPython.display import SVG\n",
        "from keras.utils.vis_utils import model_to_dot, plot_model"
      ]
    },
    {
      "cell_type": "markdown",
      "metadata": {
        "id": "NtpA4i5QBtYS"
      },
      "source": [
        "## 1. Data preparation (10 points)\n",
        "\n",
        "1. Download spanish-english data from http://www.manythings.org/anki/\n",
        "2. You may try to use other languages.\n",
        "3. Unzip the .ZIP file.\n",
        "4. Put the .TXT file (e.g., \"deu.txt\") in the directory \"./Data/\".\n",
        "5. Fill in your data directory in section 1.1."
      ]
    },
    {
      "cell_type": "markdown",
      "metadata": {
        "id": "1_lEEewDBtYT"
      },
      "source": [
        "### 1.1. Load and clean text\n"
      ]
    },
    {
      "cell_type": "code",
      "execution_count": null,
      "metadata": {
        "id": "-4frYqdxBtYV"
      },
      "outputs": [],
      "source": [
        "import re\n",
        "import string\n",
        "from unicodedata import normalize\n",
        "import numpy\n",
        "\n",
        "# load doc into memory\n",
        "def load_doc(filename):\n",
        "    # open the file as read only\n",
        "    file = open(filename, mode='rt', encoding='utf-8')\n",
        "    # read all text\n",
        "    text = file.read()\n",
        "    # close the file\n",
        "    file.close()\n",
        "    return text\n",
        "\n",
        "\n",
        "# split a loaded document into sentences\n",
        "def to_pairs(doc):\n",
        "    lines = doc.strip().split('\\n')\n",
        "    pairs = [line.split('\\t') for line in  lines]\n",
        "    return pairs\n",
        "\n",
        "def clean_data(lines):\n",
        "    cleaned = list()\n",
        "    # prepare regex for char filtering\n",
        "    re_print = re.compile('[^%s]' % re.escape(string.printable))\n",
        "    # prepare translation table for removing punctuation\n",
        "    table = str.maketrans('', '', string.punctuation)\n",
        "    for pair in lines:\n",
        "        clean_pair = list()\n",
        "        for line in pair:\n",
        "            # normalize unicode characters\n",
        "            line = normalize('NFD', line).encode('ascii', 'ignore')\n",
        "            line = line.decode('UTF-8')\n",
        "            # tokenize on white space\n",
        "            line = line.split()\n",
        "            # convert to lowercase\n",
        "            line = [word.lower() for word in line]\n",
        "            # remove punctuation from each token\n",
        "            line = [word.translate(table) for word in line]\n",
        "            # remove non-printable chars form each token\n",
        "            line = [re_print.sub('', w) for w in line]\n",
        "            # remove tokens with numbers in them\n",
        "            line = [word for word in line if word.isalpha()]\n",
        "            # store as string\n",
        "            clean_pair.append(' '.join(line))\n",
        "        cleaned.append(clean_pair)\n",
        "    return numpy.array(cleaned)"
      ]
    },
    {
      "cell_type": "markdown",
      "metadata": {
        "id": "XvJl7TyNBtYX"
      },
      "source": [
        "#### Fill the following blanks:"
      ]
    },
    {
      "cell_type": "code",
      "execution_count": null,
      "metadata": {
        "id": "ZO3x2p-DBtYZ"
      },
      "outputs": [],
      "source": [
        "# e.g., filename = 'Data/deu.txt'\n",
        "filename = 'spa.txt'\n",
        "\n",
        "# e.g., n_train = 20000\n",
        "n_train = 20000"
      ]
    },
    {
      "cell_type": "code",
      "execution_count": null,
      "metadata": {
        "id": "3GnWr0lcBtYa"
      },
      "outputs": [],
      "source": [
        "# load dataset\n",
        "doc = load_doc(filename)\n",
        "\n",
        "# split into Language1-Language2 pairs\n",
        "pairs = to_pairs(doc)\n",
        "\n",
        "# clean sentences\n",
        "clean_pairs = clean_data(pairs)[0:n_train, :]"
      ]
    },
    {
      "cell_type": "code",
      "execution_count": null,
      "metadata": {
        "colab": {
          "base_uri": "https://localhost:8080/"
        },
        "id": "ebNQpdOBBtYb",
        "outputId": "094c9d0a-370c-46f3-ce31-9225d678fb94"
      },
      "outputs": [
        {
          "output_type": "stream",
          "name": "stdout",
          "text": [
            "[youre here] => [estas aqui]\n",
            "[youre here] => [estais aqui]\n",
            "[youre late] => [estas retrasado]\n",
            "[youre lost] => [estas perdido]\n",
            "[youre mean] => [eres mala]\n",
            "[youre mean] => [eres mezquino]\n",
            "[youre mine] => [tu eres mio]\n",
            "[youre nice] => [eres simpatico]\n",
            "[youre nuts] => [estas loco]\n",
            "[youre nuts] => [estas chiflado]\n"
          ]
        }
      ],
      "source": [
        "for i in range(3000, 3010):\n",
        "    print('[' + clean_pairs[i, 0] + '] => [' + clean_pairs[i, 1] + ']')"
      ]
    },
    {
      "cell_type": "code",
      "execution_count": null,
      "metadata": {
        "colab": {
          "base_uri": "https://localhost:8080/"
        },
        "id": "iHnyVpzbBtYd",
        "outputId": "ae882ee4-78b1-4b84-c560-29581bcb3358"
      },
      "outputs": [
        {
          "output_type": "stream",
          "name": "stdout",
          "text": [
            "Length of input_texts:  (20000,)\n",
            "Length of target_texts: (20000,)\n"
          ]
        }
      ],
      "source": [
        "input_texts = clean_pairs[:, 0]\n",
        "target_texts = ['\\t' + text + '\\n' for text in clean_pairs[:, 1]]\n",
        "\n",
        "print('Length of input_texts:  ' + str(input_texts.shape))\n",
        "print('Length of target_texts: ' + str(input_texts.shape))"
      ]
    },
    {
      "cell_type": "code",
      "execution_count": null,
      "metadata": {
        "colab": {
          "base_uri": "https://localhost:8080/"
        },
        "id": "ifpfjGfvBtYe",
        "outputId": "8da9a7d6-15cb-46d6-b98c-0dd87c715901"
      },
      "outputs": [
        {
          "output_type": "stream",
          "name": "stdout",
          "text": [
            "max length of input  sentences: 18\n",
            "max length of target sentences: 55\n"
          ]
        }
      ],
      "source": [
        "max_encoder_seq_length = max(len(line) for line in input_texts)\n",
        "max_decoder_seq_length = max(len(line) for line in target_texts)\n",
        "\n",
        "print('max length of input  sentences: %d' % (max_encoder_seq_length))\n",
        "print('max length of target sentences: %d' % (max_decoder_seq_length))"
      ]
    },
    {
      "cell_type": "markdown",
      "metadata": {
        "id": "sN6GYIJDBtYf"
      },
      "source": [
        "**Remark:** To this end, you have two lists of sentences: input_texts and target_texts"
      ]
    },
    {
      "cell_type": "markdown",
      "metadata": {
        "id": "Wlf7c1YkBtYg"
      },
      "source": [
        "## 2. Text processing\n",
        "\n",
        "### 2.1. Convert texts to sequences\n",
        "\n",
        "- Input: A list of $n$ sentences (with max length $t$).\n",
        "- It is represented by a $n\\times t$ matrix after the tokenization and zero-padding."
      ]
    },
    {
      "cell_type": "code",
      "execution_count": null,
      "metadata": {
        "colab": {
          "base_uri": "https://localhost:8080/"
        },
        "id": "m_FIuiroBtYh",
        "outputId": "cd725277-05fd-471d-acd8-b2d0098dfee9"
      },
      "outputs": [
        {
          "output_type": "stream",
          "name": "stdout",
          "text": [
            "shape of encoder_input_seq: (20000, 18)\n",
            "shape of input_token_index: 27\n",
            "shape of decoder_input_seq: (20000, 55)\n",
            "shape of target_token_index: 29\n"
          ]
        }
      ],
      "source": [
        "# encode and pad sequences\n",
        "def text2sequences(max_len, lines):\n",
        "    tokenizer = Tokenizer(char_level=True, filters='')\n",
        "    tokenizer.fit_on_texts(lines)\n",
        "    seqs = tokenizer.texts_to_sequences(lines)\n",
        "    seqs_pad = pad_sequences(seqs, maxlen=max_len, padding='post')\n",
        "    return seqs_pad, tokenizer.word_index\n",
        "\n",
        "\n",
        "encoder_input_seq, input_token_index = text2sequences(max_encoder_seq_length, \n",
        "                                                      input_texts)\n",
        "decoder_input_seq, target_token_index = text2sequences(max_decoder_seq_length, \n",
        "                                                       target_texts)\n",
        "\n",
        "print('shape of encoder_input_seq: ' + str(encoder_input_seq.shape))\n",
        "print('shape of input_token_index: ' + str(len(input_token_index)))\n",
        "print('shape of decoder_input_seq: ' + str(decoder_input_seq.shape))\n",
        "print('shape of target_token_index: ' + str(len(target_token_index)))"
      ]
    },
    {
      "cell_type": "code",
      "execution_count": null,
      "metadata": {
        "colab": {
          "base_uri": "https://localhost:8080/"
        },
        "id": "F1mRWXdVBtYh",
        "outputId": "a6a522fa-9ee1-435b-b8b4-109cbe840d3d"
      },
      "outputs": [
        {
          "output_type": "stream",
          "name": "stdout",
          "text": [
            "num_encoder_tokens: 28\n",
            "num_decoder_tokens: 30\n"
          ]
        }
      ],
      "source": [
        "num_encoder_tokens = len(input_token_index) + 1\n",
        "num_decoder_tokens = len(target_token_index) + 1\n",
        "\n",
        "print('num_encoder_tokens: ' + str(num_encoder_tokens))\n",
        "print('num_decoder_tokens: ' + str(num_decoder_tokens))"
      ]
    },
    {
      "cell_type": "markdown",
      "metadata": {
        "id": "f2UHH9qpBtYi"
      },
      "source": [
        "**Remark:** To this end, the input language and target language texts are converted to 2 matrices. \n",
        "\n",
        "- Their number of rows are both n_train.\n",
        "- Their number of columns are respective max_encoder_seq_length and max_decoder_seq_length."
      ]
    },
    {
      "cell_type": "markdown",
      "metadata": {
        "id": "5lj_mJt2BtYj"
      },
      "source": [
        "The followings print a sentence and its representation as a sequence."
      ]
    },
    {
      "cell_type": "code",
      "execution_count": null,
      "metadata": {
        "colab": {
          "base_uri": "https://localhost:8080/",
          "height": 36
        },
        "id": "A_DqxAv1BtYj",
        "outputId": "5017af80-36e2-40cb-d7b5-2008724019cf"
      },
      "outputs": [
        {
          "output_type": "execute_result",
          "data": {
            "text/plain": [
              "'\\tno puede ser\\n'"
            ],
            "application/vnd.google.colaboratory.intrinsic+json": {
              "type": "string"
            }
          },
          "metadata": {},
          "execution_count": 11
        }
      ],
      "source": [
        "target_texts[100]"
      ]
    },
    {
      "cell_type": "code",
      "execution_count": null,
      "metadata": {
        "colab": {
          "base_uri": "https://localhost:8080/"
        },
        "id": "1sjFm1VxBtYk",
        "outputId": "94d2ee04-90e6-41b9-cce2-d9b2ace30ec4"
      },
      "outputs": [
        {
          "output_type": "execute_result",
          "data": {
            "text/plain": [
              "array([ 6,  8,  3,  1, 17, 14,  2, 15,  2,  1,  5,  2, 10,  7,  0,  0,  0,\n",
              "        0,  0,  0,  0,  0,  0,  0,  0,  0,  0,  0,  0,  0,  0,  0,  0,  0,\n",
              "        0,  0,  0,  0,  0,  0,  0,  0,  0,  0,  0,  0,  0,  0,  0,  0,  0,\n",
              "        0,  0,  0,  0], dtype=int32)"
            ]
          },
          "metadata": {},
          "execution_count": 12
        }
      ],
      "source": [
        "decoder_input_seq[100, :]"
      ]
    },
    {
      "cell_type": "markdown",
      "metadata": {
        "id": "7S7n30e_BtYl"
      },
      "source": [
        "## 2.2. One-hot encode\n",
        "\n",
        "- Input: A list of $n$ sentences (with max length $t$).\n",
        "- It is represented by a $n\\times t$ matrix after the tokenization and zero-padding.\n",
        "- It is represented by a $n\\times t \\times v$ tensor ($t$ is the number of unique chars) after the one-hot encoding."
      ]
    },
    {
      "cell_type": "code",
      "execution_count": null,
      "metadata": {
        "colab": {
          "base_uri": "https://localhost:8080/"
        },
        "id": "6VydOv2OBtYm",
        "outputId": "37939aab-5d33-46b0-d65e-ae634dc1c97f"
      },
      "outputs": [
        {
          "output_type": "stream",
          "name": "stdout",
          "text": [
            "(20000, 18, 28)\n",
            "(20000, 55, 30)\n"
          ]
        }
      ],
      "source": [
        "# one hot encode target sequence\n",
        "def onehot_encode(sequences, max_len, vocab_size):\n",
        "    n = len(sequences)\n",
        "    data = numpy.zeros((n, max_len, vocab_size))\n",
        "    for i in range(n):\n",
        "        data[i, :, :] = to_categorical(sequences[i], num_classes=vocab_size)\n",
        "    return data\n",
        "\n",
        "encoder_input_data = onehot_encode(encoder_input_seq, max_encoder_seq_length, num_encoder_tokens)\n",
        "decoder_input_data = onehot_encode(decoder_input_seq, max_decoder_seq_length, num_decoder_tokens)\n",
        "\n",
        "decoder_target_seq = numpy.zeros(decoder_input_seq.shape)\n",
        "decoder_target_seq[:, 0:-1] = decoder_input_seq[:, 1:]\n",
        "decoder_target_data = onehot_encode(decoder_target_seq, \n",
        "                                    max_decoder_seq_length, \n",
        "                                    num_decoder_tokens)\n",
        "\n",
        "print(encoder_input_data.shape)\n",
        "print(decoder_input_data.shape)"
      ]
    },
    {
      "cell_type": "markdown",
      "metadata": {
        "id": "tidjCI-JBtYm"
      },
      "source": [
        "## 3. Build the networks (for training) (20 points)\n",
        "\n",
        "- In this section, we have already implemented the LSTM model for you. You can run the code and see what the code is doing.  \n",
        "\n",
        "- You need to change the existing LSTM model to a Bidirectional LSTM model. Just modify the network structrue and do not change the training cell in section 3.4.\n",
        "\n",
        "- Build encoder, decoder, and connect the two modules to get \"model\". \n",
        "\n",
        "- Fit the model on the bilingual data to train the parameters in the encoder and decoder.\n",
        "\n"
      ]
    },
    {
      "cell_type": "markdown",
      "metadata": {
        "id": "6DjWWirgBtYn"
      },
      "source": [
        "### 3.1. Encoder network\n",
        "\n",
        "- Input:  one-hot encode of the input language\n",
        "\n",
        "- Return: \n",
        "\n",
        "    -- output (all the hidden states   $h_1, \\cdots , h_t$) are always discarded\n",
        "    \n",
        "    -- the final hidden state  $h_t$\n",
        "    \n",
        "    -- the final conveyor belt $c_t$"
      ]
    },
    {
      "cell_type": "code",
      "execution_count": null,
      "metadata": {
        "id": "2ZHDohZgBtYn"
      },
      "outputs": [],
      "source": [
        "latent_dim = 128\n",
        "\n",
        "# inputs of the encoder network\n",
        "encoder_inputs = Input(shape=(None, num_encoder_tokens), \n",
        "                       name='encoder_inputs')\n",
        "\n",
        "# set the LSTM layer\n",
        "encoder_lstm = Bidirectional(LSTM(latent_dim , return_state=True, \n",
        "                    dropout=0.5, name='encoder_lstm'))\n",
        "_, forward_h, forward_c, backward_h, backward_c = encoder_lstm(encoder_inputs)\n",
        "\n",
        "state_h = Concatenate()([forward_h, backward_h])\n",
        "state_c = Concatenate()([forward_c, backward_c])\n",
        "\n",
        "# Build the encoder network model\n",
        "encoder_model = Model(inputs=encoder_inputs,\n",
        "                        outputs=[state_h, state_c],\n",
        "                        name='encoder')"
      ]
    },
    {
      "cell_type": "markdown",
      "metadata": {
        "id": "OrUTP7YgBtYo"
      },
      "source": [
        "Print a summary and save the encoder network structure to \"./encoder.pdf\""
      ]
    },
    {
      "cell_type": "code",
      "execution_count": null,
      "metadata": {
        "colab": {
          "base_uri": "https://localhost:8080/"
        },
        "id": "bUJFppeSBtYo",
        "outputId": "58f9a499-d500-49a7-db27-7e57fdeda92a"
      },
      "outputs": [
        {
          "output_type": "stream",
          "name": "stdout",
          "text": [
            "Model: \"encoder\"\n",
            "__________________________________________________________________________________________________\n",
            " Layer (type)                   Output Shape         Param #     Connected to                     \n",
            "==================================================================================================\n",
            " encoder_inputs (InputLayer)    [(None, None, 28)]   0           []                               \n",
            "                                                                                                  \n",
            " bidirectional (Bidirectional)  [(None, 256),        160768      ['encoder_inputs[0][0]']         \n",
            "                                 (None, 128),                                                     \n",
            "                                 (None, 128),                                                     \n",
            "                                 (None, 128),                                                     \n",
            "                                 (None, 128)]                                                     \n",
            "                                                                                                  \n",
            " concatenate (Concatenate)      (None, 256)          0           ['bidirectional[0][1]',          \n",
            "                                                                  'bidirectional[0][3]']          \n",
            "                                                                                                  \n",
            " concatenate_1 (Concatenate)    (None, 256)          0           ['bidirectional[0][2]',          \n",
            "                                                                  'bidirectional[0][4]']          \n",
            "                                                                                                  \n",
            "==================================================================================================\n",
            "Total params: 160,768\n",
            "Trainable params: 160,768\n",
            "Non-trainable params: 0\n",
            "__________________________________________________________________________________________________\n"
          ]
        }
      ],
      "source": [
        "from IPython.display import SVG\n",
        "from keras.utils.vis_utils import model_to_dot, plot_model\n",
        "\n",
        "SVG(model_to_dot(encoder_model, show_shapes=False).create(prog='dot', format='svg'))\n",
        "\n",
        "plot_model(\n",
        "    model=encoder_model, show_shapes=False,\n",
        "    to_file='encoder.pdf'\n",
        ")\n",
        "\n",
        "encoder_model.summary()"
      ]
    },
    {
      "cell_type": "markdown",
      "metadata": {
        "id": "5V5Y1wWsBtYp"
      },
      "source": [
        "### 3.2. Decoder network\n",
        "\n",
        "- Inputs:  \n",
        "\n",
        "    -- one-hot encode of the target language\n",
        "    \n",
        "    -- The initial hidden state $h_t$ \n",
        "    \n",
        "    -- The initial conveyor belt $c_t$ \n",
        "\n",
        "- Return: \n",
        "\n",
        "    -- output (all the hidden states) $h_1, \\cdots , h_t$\n",
        "\n",
        "    -- the final hidden state  $h_t$ (discarded in the training and used in the prediction)\n",
        "    \n",
        "    -- the final conveyor belt $c_t$ (discarded in the training and used in the prediction)"
      ]
    },
    {
      "cell_type": "code",
      "execution_count": null,
      "metadata": {
        "id": "B8t78q-1BtYq"
      },
      "outputs": [],
      "source": [
        "latent_dim = latent_dim * 2\n",
        "\n",
        "# inputs of the decoder network\n",
        "decoder_input_h = Input(shape=(latent_dim,), name='decoder_input_h')\n",
        "decoder_input_c = Input(shape=(latent_dim,), name='decoder_input_c')\n",
        "decoder_input_x = Input(shape=(None, num_decoder_tokens), name='decoder_input_x')\n",
        "\n",
        "# set the LSTM layer\n",
        "decoder_lstm = LSTM(latent_dim, return_sequences=True, \n",
        "                    return_state=True, dropout=0.5, name='decoder_lstm')\n",
        "decoder_lstm_outputs, state_h, state_c = decoder_lstm(decoder_input_x, \n",
        "                                                      initial_state=[decoder_input_h, decoder_input_c])\n",
        "\n",
        "# set the dense layer\n",
        "decoder_dense = Dense(num_decoder_tokens, activation='softmax', name='decoder_dense')\n",
        "decoder_outputs = decoder_dense(decoder_lstm_outputs)\n",
        "\n",
        "# build the decoder network model\n",
        "decoder_model = Model(inputs=[decoder_input_x, decoder_input_h, decoder_input_c],\n",
        "                      outputs=[decoder_outputs, state_h, state_c],\n",
        "                      name='decoder')"
      ]
    },
    {
      "cell_type": "markdown",
      "metadata": {
        "id": "7ZFYvp-8BtYq"
      },
      "source": [
        "Print a summary and save the encoder network structure to \"./decoder.pdf\""
      ]
    },
    {
      "cell_type": "code",
      "execution_count": null,
      "metadata": {
        "colab": {
          "base_uri": "https://localhost:8080/"
        },
        "id": "XxH6206tBtYr",
        "outputId": "3e967d12-02b0-4b31-9234-e00d9fd56d14"
      },
      "outputs": [
        {
          "output_type": "stream",
          "name": "stdout",
          "text": [
            "Model: \"decoder\"\n",
            "__________________________________________________________________________________________________\n",
            " Layer (type)                   Output Shape         Param #     Connected to                     \n",
            "==================================================================================================\n",
            " decoder_input_x (InputLayer)   [(None, None, 30)]   0           []                               \n",
            "                                                                                                  \n",
            " decoder_input_h (InputLayer)   [(None, 256)]        0           []                               \n",
            "                                                                                                  \n",
            " decoder_input_c (InputLayer)   [(None, 256)]        0           []                               \n",
            "                                                                                                  \n",
            " decoder_lstm (LSTM)            [(None, None, 256),  293888      ['decoder_input_x[0][0]',        \n",
            "                                 (None, 256),                     'decoder_input_h[0][0]',        \n",
            "                                 (None, 256)]                     'decoder_input_c[0][0]']        \n",
            "                                                                                                  \n",
            " decoder_dense (Dense)          (None, None, 30)     7710        ['decoder_lstm[0][0]']           \n",
            "                                                                                                  \n",
            "==================================================================================================\n",
            "Total params: 301,598\n",
            "Trainable params: 301,598\n",
            "Non-trainable params: 0\n",
            "__________________________________________________________________________________________________\n"
          ]
        }
      ],
      "source": [
        "SVG(model_to_dot(decoder_model, show_shapes=False).create(prog='dot', format='svg'))\n",
        "\n",
        "plot_model(\n",
        "    model=decoder_model, show_shapes=False,\n",
        "    to_file='decoder.pdf'\n",
        ")\n",
        "\n",
        "decoder_model.summary()"
      ]
    },
    {
      "cell_type": "markdown",
      "metadata": {
        "id": "zliNBn7KBtYs"
      },
      "source": [
        "### 3.3. Connect the encoder and decoder"
      ]
    },
    {
      "cell_type": "code",
      "execution_count": null,
      "metadata": {
        "id": "0chVSp0WBtYs"
      },
      "outputs": [],
      "source": [
        "# input layers\n",
        "encoder_input_x = Input(shape=(None, num_encoder_tokens), name='encoder_input_x')\n",
        "decoder_input_x = Input(shape=(None, num_decoder_tokens), name='decoder_input_x')\n",
        "\n",
        "# connect encoder to decoder\n",
        "encoder_final_states = encoder_model([encoder_input_x])\n",
        "decoder_lstm_output, _, _ = decoder_lstm(decoder_input_x, initial_state=encoder_final_states)\n",
        "decoder_pred = decoder_dense(decoder_lstm_output)\n",
        "\n",
        "model = Model(inputs=[encoder_input_x, decoder_input_x], \n",
        "              outputs=decoder_pred, \n",
        "              name='model_training')"
      ]
    },
    {
      "cell_type": "code",
      "execution_count": null,
      "metadata": {
        "colab": {
          "base_uri": "https://localhost:8080/"
        },
        "id": "96cWXGvvBtYt",
        "outputId": "1eb3d197-3ed1-4a61-d62c-f35feedde286"
      },
      "outputs": [
        {
          "output_type": "stream",
          "name": "stdout",
          "text": [
            "Model: \"model_training\"\n",
            "__________________________________________________________________________________________________\n",
            " Layer (type)                   Output Shape         Param #     Connected to                     \n",
            "==================================================================================================\n",
            " encoder_input_x (InputLayer)   [(None, None, 28)]   0           []                               \n",
            "                                                                                                  \n",
            " decoder_input_x (InputLayer)   [(None, None, 30)]   0           []                               \n",
            "                                                                                                  \n",
            " encoder (Functional)           [(None, 256),        160768      ['encoder_input_x[0][0]']        \n",
            "                                 (None, 256)]                                                     \n",
            "                                                                                                  \n",
            " decoder_lstm (LSTM)            [(None, None, 256),  293888      ['decoder_input_x[0][0]',        \n",
            "                                 (None, 256),                     'encoder[0][0]',                \n",
            "                                 (None, 256)]                     'encoder[0][1]']                \n",
            "                                                                                                  \n",
            " decoder_dense (Dense)          (None, None, 30)     7710        ['decoder_lstm[1][0]']           \n",
            "                                                                                                  \n",
            "==================================================================================================\n",
            "Total params: 462,366\n",
            "Trainable params: 462,366\n",
            "Non-trainable params: 0\n",
            "__________________________________________________________________________________________________\n"
          ]
        }
      ],
      "source": [
        "from IPython.display import SVG\n",
        "from keras.utils.vis_utils import model_to_dot, plot_model\n",
        "\n",
        "SVG(model_to_dot(model, show_shapes=False).create(prog='dot', format='svg'))\n",
        "\n",
        "plot_model(\n",
        "    model=model, show_shapes=False,\n",
        "    to_file='model_training.pdf'\n",
        ")\n",
        "\n",
        "model.summary()"
      ]
    },
    {
      "cell_type": "markdown",
      "metadata": {
        "id": "k20KxtNABtYu"
      },
      "source": [
        "### 3.4. Fit the model on the bilingual dataset\n",
        "\n",
        "- encoder_input_data: one-hot encode of the input language\n",
        "\n",
        "- decoder_input_data: one-hot encode of the input language\n",
        "\n",
        "- decoder_target_data: labels (left shift of decoder_input_data)\n",
        "\n",
        "- tune the hyper-parameters\n",
        "\n",
        "- stop when the validation loss stop decreasing."
      ]
    },
    {
      "cell_type": "code",
      "execution_count": null,
      "metadata": {
        "colab": {
          "base_uri": "https://localhost:8080/"
        },
        "id": "SAjNtIFIBtYu",
        "outputId": "3f92acf8-4f41-456a-d57a-0894f781f685"
      },
      "outputs": [
        {
          "output_type": "stream",
          "name": "stdout",
          "text": [
            "shape of encoder_input_data(20000, 18, 28)\n",
            "shape of decoder_input_data(20000, 55, 30)\n",
            "shape of decoder_target_data(20000, 55, 30)\n"
          ]
        }
      ],
      "source": [
        "print('shape of encoder_input_data' + str(encoder_input_data.shape))\n",
        "print('shape of decoder_input_data' + str(decoder_input_data.shape))\n",
        "print('shape of decoder_target_data' + str(decoder_target_data.shape))"
      ]
    },
    {
      "cell_type": "code",
      "execution_count": null,
      "metadata": {
        "colab": {
          "base_uri": "https://localhost:8080/"
        },
        "id": "0UYsmvHwBtYv",
        "outputId": "8ab7a74c-a26b-4ff5-8d1f-384058cdfd70"
      },
      "outputs": [
        {
          "output_type": "stream",
          "name": "stdout",
          "text": [
            "Epoch 1/50\n",
            "267/267 [==============================] - 14s 19ms/step - loss: 0.9132 - accuracy: 0.7459 - val_loss: 0.8427 - val_accuracy: 0.7528\n",
            "Epoch 2/50\n",
            "267/267 [==============================] - 4s 15ms/step - loss: 0.7296 - accuracy: 0.7785 - val_loss: 0.7729 - val_accuracy: 0.7606\n",
            "Epoch 3/50\n",
            "267/267 [==============================] - 4s 14ms/step - loss: 0.6948 - accuracy: 0.7883 - val_loss: 0.7107 - val_accuracy: 0.7809\n",
            "Epoch 4/50\n",
            "267/267 [==============================] - 4s 14ms/step - loss: 0.6707 - accuracy: 0.7958 - val_loss: 0.6758 - val_accuracy: 0.7919\n",
            "Epoch 5/50\n",
            "267/267 [==============================] - 4s 14ms/step - loss: 0.6516 - accuracy: 0.8016 - val_loss: 0.6514 - val_accuracy: 0.7979\n",
            "Epoch 6/50\n",
            "267/267 [==============================] - 4s 14ms/step - loss: 0.6375 - accuracy: 0.8056 - val_loss: 0.6317 - val_accuracy: 0.8036\n",
            "Epoch 7/50\n",
            "267/267 [==============================] - 4s 14ms/step - loss: 0.6251 - accuracy: 0.8096 - val_loss: 0.6169 - val_accuracy: 0.8085\n",
            "Epoch 8/50\n",
            "267/267 [==============================] - 4s 16ms/step - loss: 0.6134 - accuracy: 0.8131 - val_loss: 0.6028 - val_accuracy: 0.8135\n",
            "Epoch 9/50\n",
            "267/267 [==============================] - 4s 15ms/step - loss: 0.6035 - accuracy: 0.8163 - val_loss: 0.5880 - val_accuracy: 0.8174\n",
            "Epoch 10/50\n",
            "267/267 [==============================] - 4s 14ms/step - loss: 0.5964 - accuracy: 0.8184 - val_loss: 0.5821 - val_accuracy: 0.8196\n",
            "Epoch 11/50\n",
            "267/267 [==============================] - 6s 22ms/step - loss: 0.5874 - accuracy: 0.8212 - val_loss: 0.5711 - val_accuracy: 0.8245\n",
            "Epoch 12/50\n",
            "267/267 [==============================] - 5s 19ms/step - loss: 0.5808 - accuracy: 0.8233 - val_loss: 0.5653 - val_accuracy: 0.8259\n",
            "Epoch 13/50\n",
            "267/267 [==============================] - 4s 14ms/step - loss: 0.5745 - accuracy: 0.8253 - val_loss: 0.5572 - val_accuracy: 0.8268\n",
            "Epoch 14/50\n",
            "267/267 [==============================] - 4s 15ms/step - loss: 0.5688 - accuracy: 0.8270 - val_loss: 0.5486 - val_accuracy: 0.8297\n",
            "Epoch 15/50\n",
            "267/267 [==============================] - 4s 15ms/step - loss: 0.5634 - accuracy: 0.8286 - val_loss: 0.5404 - val_accuracy: 0.8329\n",
            "Epoch 16/50\n",
            "267/267 [==============================] - 4s 15ms/step - loss: 0.5577 - accuracy: 0.8306 - val_loss: 0.5362 - val_accuracy: 0.8344\n",
            "Epoch 17/50\n",
            "267/267 [==============================] - 4s 15ms/step - loss: 0.5537 - accuracy: 0.8315 - val_loss: 0.5299 - val_accuracy: 0.8368\n",
            "Epoch 18/50\n",
            "267/267 [==============================] - 4s 15ms/step - loss: 0.5475 - accuracy: 0.8331 - val_loss: 0.5274 - val_accuracy: 0.8375\n",
            "Epoch 19/50\n",
            "267/267 [==============================] - 4s 15ms/step - loss: 0.5431 - accuracy: 0.8348 - val_loss: 0.5223 - val_accuracy: 0.8386\n",
            "Epoch 20/50\n",
            "267/267 [==============================] - 4s 16ms/step - loss: 0.5389 - accuracy: 0.8360 - val_loss: 0.5191 - val_accuracy: 0.8388\n",
            "Epoch 21/50\n",
            "267/267 [==============================] - 4s 16ms/step - loss: 0.5362 - accuracy: 0.8373 - val_loss: 0.5118 - val_accuracy: 0.8419\n",
            "Epoch 22/50\n",
            "267/267 [==============================] - 4s 15ms/step - loss: 0.5321 - accuracy: 0.8381 - val_loss: 0.5076 - val_accuracy: 0.8440\n",
            "Epoch 23/50\n",
            "267/267 [==============================] - 4s 14ms/step - loss: 0.5285 - accuracy: 0.8390 - val_loss: 0.5071 - val_accuracy: 0.8441\n",
            "Epoch 24/50\n",
            "267/267 [==============================] - 4s 14ms/step - loss: 0.5259 - accuracy: 0.8403 - val_loss: 0.5033 - val_accuracy: 0.8449\n",
            "Epoch 25/50\n",
            "267/267 [==============================] - 4s 14ms/step - loss: 0.5220 - accuracy: 0.8414 - val_loss: 0.4991 - val_accuracy: 0.8461\n",
            "Epoch 26/50\n",
            "267/267 [==============================] - 4s 14ms/step - loss: 0.5186 - accuracy: 0.8426 - val_loss: 0.4963 - val_accuracy: 0.8477\n",
            "Epoch 27/50\n",
            "267/267 [==============================] - 4s 14ms/step - loss: 0.5168 - accuracy: 0.8431 - val_loss: 0.4936 - val_accuracy: 0.8481\n",
            "Epoch 28/50\n",
            "267/267 [==============================] - 4s 14ms/step - loss: 0.5127 - accuracy: 0.8441 - val_loss: 0.4908 - val_accuracy: 0.8491\n",
            "Epoch 29/50\n",
            "267/267 [==============================] - 4s 14ms/step - loss: 0.5092 - accuracy: 0.8454 - val_loss: 0.4868 - val_accuracy: 0.8509\n",
            "Epoch 30/50\n",
            "267/267 [==============================] - 4s 14ms/step - loss: 0.5075 - accuracy: 0.8457 - val_loss: 0.4845 - val_accuracy: 0.8505\n",
            "Epoch 31/50\n",
            "267/267 [==============================] - 4s 14ms/step - loss: 0.5049 - accuracy: 0.8464 - val_loss: 0.4832 - val_accuracy: 0.8509\n",
            "Epoch 32/50\n",
            "267/267 [==============================] - 4s 14ms/step - loss: 0.5031 - accuracy: 0.8469 - val_loss: 0.4803 - val_accuracy: 0.8526\n",
            "Epoch 33/50\n",
            "267/267 [==============================] - 4s 14ms/step - loss: 0.5002 - accuracy: 0.8481 - val_loss: 0.4805 - val_accuracy: 0.8522\n",
            "Epoch 34/50\n",
            "267/267 [==============================] - 4s 14ms/step - loss: 0.4977 - accuracy: 0.8488 - val_loss: 0.4745 - val_accuracy: 0.8546\n",
            "Epoch 35/50\n",
            "267/267 [==============================] - 4s 14ms/step - loss: 0.4962 - accuracy: 0.8491 - val_loss: 0.4755 - val_accuracy: 0.8541\n",
            "Epoch 36/50\n",
            "267/267 [==============================] - 4s 17ms/step - loss: 0.4933 - accuracy: 0.8499 - val_loss: 0.4748 - val_accuracy: 0.8544\n",
            "Epoch 37/50\n",
            "267/267 [==============================] - 4s 14ms/step - loss: 0.4918 - accuracy: 0.8503 - val_loss: 0.4717 - val_accuracy: 0.8548\n",
            "Epoch 38/50\n",
            "267/267 [==============================] - 4s 14ms/step - loss: 0.4902 - accuracy: 0.8507 - val_loss: 0.4710 - val_accuracy: 0.8560\n",
            "Epoch 39/50\n",
            "267/267 [==============================] - 4s 15ms/step - loss: 0.4869 - accuracy: 0.8519 - val_loss: 0.4667 - val_accuracy: 0.8570\n",
            "Epoch 40/50\n",
            "267/267 [==============================] - 4s 14ms/step - loss: 0.4869 - accuracy: 0.8521 - val_loss: 0.4680 - val_accuracy: 0.8563\n",
            "Epoch 41/50\n",
            "267/267 [==============================] - 4s 15ms/step - loss: 0.4838 - accuracy: 0.8525 - val_loss: 0.4657 - val_accuracy: 0.8567\n",
            "Epoch 42/50\n",
            "267/267 [==============================] - 4s 14ms/step - loss: 0.4829 - accuracy: 0.8529 - val_loss: 0.4620 - val_accuracy: 0.8583\n",
            "Epoch 43/50\n",
            "267/267 [==============================] - 4s 14ms/step - loss: 0.4793 - accuracy: 0.8543 - val_loss: 0.4630 - val_accuracy: 0.8586\n",
            "Epoch 44/50\n",
            "267/267 [==============================] - 4s 14ms/step - loss: 0.4786 - accuracy: 0.8542 - val_loss: 0.4607 - val_accuracy: 0.8580\n",
            "Epoch 45/50\n",
            "267/267 [==============================] - 4s 14ms/step - loss: 0.4782 - accuracy: 0.8546 - val_loss: 0.4603 - val_accuracy: 0.8583\n",
            "Epoch 46/50\n",
            "267/267 [==============================] - 4s 14ms/step - loss: 0.4754 - accuracy: 0.8553 - val_loss: 0.4632 - val_accuracy: 0.8576\n",
            "Epoch 47/50\n",
            "267/267 [==============================] - 4s 14ms/step - loss: 0.4751 - accuracy: 0.8554 - val_loss: 0.4582 - val_accuracy: 0.8595\n",
            "Epoch 48/50\n",
            "267/267 [==============================] - 4s 14ms/step - loss: 0.4733 - accuracy: 0.8560 - val_loss: 0.4587 - val_accuracy: 0.8589\n",
            "Epoch 49/50\n",
            "267/267 [==============================] - 4s 14ms/step - loss: 0.4711 - accuracy: 0.8566 - val_loss: 0.4558 - val_accuracy: 0.8598\n",
            "Epoch 50/50\n",
            "267/267 [==============================] - 4s 14ms/step - loss: 0.4699 - accuracy: 0.8571 - val_loss: 0.4540 - val_accuracy: 0.8607\n"
          ]
        }
      ],
      "source": [
        "model.compile(optimizer='rmsprop', loss='categorical_crossentropy', metrics = ['accuracy'])\n",
        "\n",
        "model.fit([encoder_input_data, decoder_input_data],  # training data\n",
        "          decoder_target_data,                       # labels (left shift of the target sequences)\n",
        "          batch_size=60, epochs=50, validation_split=0.2)\n",
        "\n",
        "model.save('seq2seq.h5')"
      ]
    },
    {
      "cell_type": "markdown",
      "metadata": {
        "id": "8NzlYIO0BtYv"
      },
      "source": [
        "## 4. Make predictions\n",
        "\n",
        "- In this section, you need to complete section 4.2 to translate English to the target language.\n",
        "\n",
        "\n",
        "### 4.1. Translate English to XXX\n",
        "\n",
        "1. Encoder read a sentence (source language) and output its final states, $h_t$ and $c_t$.\n",
        "2. Take the [star] sign \"\\t\" and the final state $h_t$ and $c_t$ as input and run the decoder.\n",
        "3. Get the new states and predicted probability distribution.\n",
        "4. sample a char from the predicted probability distribution\n",
        "5. take the sampled char and the new states as input and repeat the process (stop if reach the [stop] sign \"\\n\")."
      ]
    },
    {
      "cell_type": "code",
      "execution_count": null,
      "metadata": {
        "id": "UxBqbET6BtYw"
      },
      "outputs": [],
      "source": [
        "# Reverse-lookup token index to decode sequences back to something readable.\n",
        "reverse_input_char_index = dict((i, char) for char, i in input_token_index.items())\n",
        "reverse_target_char_index = dict((i, char) for char, i in target_token_index.items())"
      ]
    },
    {
      "cell_type": "code",
      "execution_count": null,
      "metadata": {
        "id": "5OmdaCvdBtYw"
      },
      "outputs": [],
      "source": [
        "def decode_sequence(input_seq, temperature = 0.2):\n",
        "    states_value = encoder_model.predict(input_seq)\n",
        "\n",
        "    target_seq = numpy.zeros((1, 1, num_decoder_tokens))\n",
        "    target_seq[0, 0, target_token_index['\\t']] = 1.\n",
        "\n",
        "    stop_condition = False\n",
        "    decoded_sentence = ''\n",
        "    while not stop_condition:\n",
        "        output_tokens, h, c = decoder_model.predict([target_seq] + states_value)\n",
        "\n",
        "        # this line of code is greedy selection\n",
        "        # try to use multinomial sampling instead (with temperature)\n",
        "        # sampled_token_index = numpy.argmax(output_tokens[0, -1, :])\n",
        "\n",
        "        # Multinomial sampling with temperature\n",
        "        p = output_tokens[0, -1, :]\n",
        "        p = numpy.asarray(p).astype('float64')\n",
        "        p = p ** (1 / temperature)\n",
        "        p = p / numpy.sum(p)\n",
        "\n",
        "        next_onehot = numpy.random.multinomial(1,p,1)\n",
        "        sampled_token_index = numpy.argmax(next_onehot)\n",
        "\n",
        "        # To handle the 0 index error\n",
        "        if sampled_token_index == 0:\n",
        "          break\n",
        "        \n",
        "        sampled_char = reverse_target_char_index[sampled_token_index]\n",
        "        decoded_sentence += sampled_char\n",
        "\n",
        "        if (sampled_char == '\\n' or\n",
        "           len(decoded_sentence) > max_decoder_seq_length):\n",
        "            stop_condition = True\n",
        "\n",
        "        target_seq = numpy.zeros((1, 1, num_decoder_tokens))\n",
        "        target_seq[0, 0, sampled_token_index] = 1.\n",
        "\n",
        "        states_value = [h, c]\n",
        "\n",
        "    return decoded_sentence"
      ]
    },
    {
      "cell_type": "code",
      "execution_count": null,
      "metadata": {
        "colab": {
          "base_uri": "https://localhost:8080/"
        },
        "id": "V9_ILHeqBtYx",
        "outputId": "edb8728c-c99e-45e3-8ff1-d639434ebc36"
      },
      "outputs": [
        {
          "output_type": "stream",
          "name": "stdout",
          "text": [
            "-\n",
            "English:        hes skinny\n",
            "Spanish (true):  el esta delgado\n",
            "Spanish (pred):  es esta moliendo\n",
            "-\n",
            "English:        hes strong\n",
            "Spanish (true):  el es fuerte\n",
            "Spanish (pred):  es esta mojando\n",
            "-\n",
            "English:        hes stupid\n",
            "Spanish (true):  el es estupido\n",
            "Spanish (pred):  el es anteligente\n",
            "-\n",
            "English:        hes stupid\n",
            "Spanish (true):  no le llega agua al tanque\n",
            "Spanish (pred):  el es a resto\n",
            "-\n",
            "English:        hes stupid\n",
            "Spanish (true):  es un salame\n",
            "Spanish (pred):  es esta listo\n",
            "-\n",
            "English:        help me out\n",
            "Spanish (true):  ayudame\n",
            "Spanish (pred):  dejame antrar\n",
            "-\n",
            "English:        help me out\n",
            "Spanish (true):  ayudame a salir\n",
            "Spanish (pred):  dame un poco\n",
            "-\n",
            "English:        help me out\n",
            "Spanish (true):  echeme la mano\n",
            "Spanish (pred):  dejame antrar\n",
            "-\n",
            "English:        help me out\n",
            "Spanish (true):  ayudame a salir\n",
            "Spanish (pred):  dejame a tom\n",
            "-\n",
            "English:        here i come\n",
            "Spanish (true):  aqui vengo\n",
            "Spanish (pred):  aqui vienes\n",
            "-\n",
            "English:        here i come\n",
            "Spanish (true):  ya estoy aqui\n",
            "Spanish (pred):  aqui vino en casa\n",
            "-\n",
            "English:        here she is\n",
            "Spanish (true):  aqui esta ella\n",
            "Spanish (pred):  aqui esta es\n",
            "-\n",
            "English:        here we are\n",
            "Spanish (true):  aqui estamos\n",
            "Spanish (pred):  aqui vienes\n",
            "-\n",
            "English:        here we are\n",
            "Spanish (true):  aqui estamos\n",
            "Spanish (pred):  aqui vienes\n",
            "-\n",
            "English:        hi im tom\n",
            "Spanish (true):  hola soy tom\n",
            "Spanish (pred):  ho a tom\n",
            "-\n",
            "English:        hit it hard\n",
            "Spanish (true):  dele fuerte\n",
            "Spanish (pred):  es esta aqui\n",
            "-\n",
            "English:        how are you\n",
            "Spanish (true):  como estas vos\n",
            "Spanish (pred):  como estas\n",
            "-\n",
            "English:        how curious\n",
            "Spanish (true):  que curioso\n",
            "Spanish (pred):  que tal asto\n",
            "-\n",
            "English:        how strange\n",
            "Spanish (true):  que raro\n",
            "Spanish (pred):  que arorando\n",
            "-\n",
            "English:        how strange\n",
            "Spanish (true):  que raro\n",
            "Spanish (pred):  que tal esta mal\n"
          ]
        }
      ],
      "source": [
        "for seq_index in range(2100, 2120):\n",
        "    # Take one sequence (part of the training set)\n",
        "    # for trying out decoding.\n",
        "    input_seq = encoder_input_data[seq_index: seq_index + 1]\n",
        "    decoded_sentence = decode_sequence(input_seq)\n",
        "    print('-')\n",
        "    print('English:       ', input_texts[seq_index])\n",
        "    print('Spanish (true): ', target_texts[seq_index][1:-1])\n",
        "    print('Spanish (pred): ', decoded_sentence[0:-1])\n"
      ]
    },
    {
      "cell_type": "markdown",
      "metadata": {
        "id": "uVWiL9YzBtYx"
      },
      "source": [
        "### 4.2. Translate an English sentence to the target language （20 points）\n",
        "\n",
        "1. Tokenization\n",
        "2. One-hot encode\n",
        "3. Translate"
      ]
    },
    {
      "cell_type": "code",
      "execution_count": null,
      "metadata": {
        "colab": {
          "base_uri": "https://localhost:8080/"
        },
        "id": "KNy-7FuCBtYy",
        "outputId": "ea5f7c2a-d93c-450e-ec63-8dd0434fe0fd"
      },
      "outputs": [
        {
          "output_type": "stream",
          "name": "stdout",
          "text": [
            "source sentence is: I love you\n",
            "translated sentence is: me encanta el ti\n",
            "\n"
          ]
        }
      ],
      "source": [
        "input_sentence = 'I love you'\n",
        "\n",
        "tokenizer = Tokenizer(char_level=True, filters='')\n",
        "\n",
        "tokenizer.word_index = input_token_index\n",
        "\n",
        "sequences = tokenizer.texts_to_sequences([input_sentence])\n",
        "\n",
        "input_sequence = pad_sequences(sequences, maxlen=max_encoder_seq_length, padding='post')\n",
        "\n",
        "input_x = onehot_encode(input_sequence,max_encoder_seq_length,num_encoder_tokens )\n",
        "\n",
        "translated_sentence = decode_sequence(input_x)\n",
        "\n",
        "print('source sentence is: ' + input_sentence)\n",
        "print('translated sentence is: ' + translated_sentence)"
      ]
    },
    {
      "cell_type": "markdown",
      "metadata": {
        "id": "ZIcdJp9VBtYy"
      },
      "source": [
        "# 5. Evaluate the translation using BLEU score\n",
        "\n",
        "- We have already translated from English to target language, but how can we evaluate the performance of our model quantitatively? \n",
        "\n",
        "- In this section, you need to re-train the model we built in secton 3 and then evaluate the bleu score on testing dataset.\n",
        "\n",
        "Reference:\n",
        "\n",
        "https://machinelearningmastery.com/calculate-bleu-score-for-text-python/\n",
        "\n",
        "https://en.wikipedia.org/wiki/BLEU\n",
        "\n",
        "#### Hint:\n",
        "\n",
        "- Randomly partition the dataset to training, validation, and test.\n",
        "\n",
        "- Evaluate the BLEU score using the test set. Report the average.\n",
        "\n",
        "- You may use packages to calculate bleu score, e.g., sentence_bleu() from nltk package."
      ]
    },
    {
      "cell_type": "markdown",
      "metadata": {
        "id": "Cup67z6ABtYz"
      },
      "source": [
        "### 5.1. Partition the dataset to training, validation, and test. Build new token index. (10 points)\n",
        "\n",
        "1. You may try to load more data/lines from text file.\n",
        "2. Convert text to sequences and build token index using training data.\n",
        "3. One-hot encode your training and validation text sequences."
      ]
    },
    {
      "cell_type": "code",
      "execution_count": null,
      "metadata": {
        "id": "b4bLD6RsBtYz"
      },
      "outputs": [],
      "source": [
        "clean_pairs = clean_data(pairs)[0:120000, :]\n",
        "input_texts = clean_pairs[:, 0]\n",
        "target_texts = ['\\t' + text + '\\n' for text in clean_pairs[:, 1]]\n"
      ]
    },
    {
      "cell_type": "code",
      "execution_count": null,
      "metadata": {
        "id": "Sk2nkm3zBtY0"
      },
      "outputs": [],
      "source": [
        "max_encoder_seq_length = max(len(line) for line in input_texts)\n",
        "max_decoder_seq_length = max(len(line) for line in target_texts)"
      ]
    },
    {
      "cell_type": "code",
      "execution_count": null,
      "metadata": {
        "id": "0w6CRY48BtY0"
      },
      "outputs": [],
      "source": [
        "encoder_input_seq, input_token_index = text2sequences(max_encoder_seq_length, \n",
        "                                                      input_texts)\n",
        "decoder_input_seq, target_token_index = text2sequences(max_decoder_seq_length, \n",
        "                                                       target_texts)"
      ]
    },
    {
      "cell_type": "code",
      "execution_count": null,
      "metadata": {
        "id": "Fq7S6PknBtY0"
      },
      "outputs": [],
      "source": [
        "num_encoder_tokens = len(input_token_index) + 1\n",
        "num_decoder_tokens = len(target_token_index) + 1"
      ]
    },
    {
      "cell_type": "code",
      "execution_count": null,
      "metadata": {
        "id": "amroU7XjBtY1"
      },
      "outputs": [],
      "source": [
        "encoder_input_data = onehot_encode(encoder_input_seq, max_encoder_seq_length, num_encoder_tokens)\n",
        "decoder_input_data = onehot_encode(decoder_input_seq, max_decoder_seq_length, num_decoder_tokens)\n",
        "\n",
        "decoder_target_seq = numpy.zeros(decoder_input_seq.shape)\n",
        "decoder_target_seq[:, 0:-1] = decoder_input_seq[:, 1:]\n",
        "decoder_target_data = onehot_encode(decoder_target_seq, \n",
        "                                    max_decoder_seq_length, \n",
        "                                    num_decoder_tokens)"
      ]
    },
    {
      "cell_type": "code",
      "execution_count": null,
      "metadata": {
        "colab": {
          "base_uri": "https://localhost:8080/"
        },
        "id": "mb5HbVsKBtY1",
        "outputId": "3f270157-d4ab-4cc2-f31b-f8e619b6dfe4"
      },
      "outputs": [
        {
          "output_type": "execute_result",
          "data": {
            "text/plain": [
              "(120000, 87, 30)"
            ]
          },
          "metadata": {},
          "execution_count": 31
        }
      ],
      "source": [
        "decoder_input_data.shape"
      ]
    },
    {
      "cell_type": "code",
      "execution_count": null,
      "metadata": {
        "id": "5A3SSRcjBtY1"
      },
      "outputs": [],
      "source": []
    },
    {
      "cell_type": "code",
      "execution_count": null,
      "metadata": {
        "colab": {
          "base_uri": "https://localhost:8080/"
        },
        "id": "_5k88ifxBtY2",
        "outputId": "a6b5ed24-01ba-4a30-c8ad-4e8eb21fc781"
      },
      "outputs": [
        {
          "output_type": "execute_result",
          "data": {
            "text/plain": [
              "(120000,)"
            ]
          },
          "metadata": {},
          "execution_count": 32
        }
      ],
      "source": [
        "input_texts.shape"
      ]
    },
    {
      "cell_type": "code",
      "execution_count": null,
      "metadata": {
        "colab": {
          "base_uri": "https://localhost:8080/"
        },
        "id": "TQvqPyLhBtY2",
        "outputId": "ae13fadc-c977-45fc-b397-5fdaf974a726"
      },
      "outputs": [
        {
          "output_type": "execute_result",
          "data": {
            "text/plain": [
              "120000"
            ]
          },
          "metadata": {},
          "execution_count": 33
        }
      ],
      "source": [
        "len(target_texts)"
      ]
    },
    {
      "cell_type": "code",
      "execution_count": null,
      "metadata": {
        "id": "J8YM8pPvBtY3"
      },
      "outputs": [],
      "source": []
    },
    {
      "cell_type": "code",
      "execution_count": null,
      "metadata": {
        "colab": {
          "base_uri": "https://localhost:8080/"
        },
        "id": "BbQyNgjbBtY3",
        "outputId": "6fd05e9e-b876-4f62-9a0f-1fc3e43e08b3"
      },
      "outputs": [
        {
          "output_type": "execute_result",
          "data": {
            "text/plain": [
              "44"
            ]
          },
          "metadata": {},
          "execution_count": 34
        }
      ],
      "source": [
        "max_encoder_seq_length"
      ]
    },
    {
      "cell_type": "code",
      "execution_count": null,
      "metadata": {
        "colab": {
          "base_uri": "https://localhost:8080/"
        },
        "id": "RWxmJbIDBtY3",
        "outputId": "dd92a650-b494-4b59-a191-d212be843097"
      },
      "outputs": [
        {
          "output_type": "execute_result",
          "data": {
            "text/plain": [
              "87"
            ]
          },
          "metadata": {},
          "execution_count": 35
        }
      ],
      "source": [
        "max_decoder_seq_length"
      ]
    },
    {
      "cell_type": "code",
      "execution_count": null,
      "metadata": {
        "colab": {
          "base_uri": "https://localhost:8080/"
        },
        "id": "C5Hg8SLpBtY4",
        "outputId": "662824f8-e56f-4ba6-ec80-236f0589f28a"
      },
      "outputs": [
        {
          "output_type": "execute_result",
          "data": {
            "text/plain": [
              "(120000, 44)"
            ]
          },
          "metadata": {},
          "execution_count": 36
        }
      ],
      "source": [
        "encoder_input_seq.shape"
      ]
    },
    {
      "cell_type": "code",
      "execution_count": null,
      "metadata": {
        "colab": {
          "base_uri": "https://localhost:8080/"
        },
        "id": "W1oq64G1BtY4",
        "outputId": "0ec7d916-603c-45ba-b1e8-2d677d24aa3b"
      },
      "outputs": [
        {
          "output_type": "execute_result",
          "data": {
            "text/plain": [
              "27"
            ]
          },
          "metadata": {},
          "execution_count": 37
        }
      ],
      "source": [
        "len(input_token_index)"
      ]
    },
    {
      "cell_type": "code",
      "execution_count": null,
      "metadata": {
        "colab": {
          "base_uri": "https://localhost:8080/"
        },
        "id": "AFS3CrZVBtY5",
        "outputId": "21e5f2c1-5d1e-4caa-e9ca-36db2b260051"
      },
      "outputs": [
        {
          "output_type": "execute_result",
          "data": {
            "text/plain": [
              "(120000, 87)"
            ]
          },
          "metadata": {},
          "execution_count": 38
        }
      ],
      "source": [
        "decoder_input_seq.shape"
      ]
    },
    {
      "cell_type": "code",
      "execution_count": null,
      "metadata": {
        "colab": {
          "base_uri": "https://localhost:8080/"
        },
        "id": "p2QhPkmbBtY5",
        "outputId": "d6c64bc4-c5b0-41ff-f5d7-4e61850d76be"
      },
      "outputs": [
        {
          "output_type": "execute_result",
          "data": {
            "text/plain": [
              "29"
            ]
          },
          "metadata": {},
          "execution_count": 39
        }
      ],
      "source": [
        "len(target_token_index)"
      ]
    },
    {
      "cell_type": "code",
      "execution_count": null,
      "metadata": {
        "colab": {
          "base_uri": "https://localhost:8080/"
        },
        "id": "9XJuW4C5BtY6",
        "outputId": "15f7f0d0-b2c2-403e-9d62-7b6768690a6e"
      },
      "outputs": [
        {
          "output_type": "execute_result",
          "data": {
            "text/plain": [
              "28"
            ]
          },
          "metadata": {},
          "execution_count": 40
        }
      ],
      "source": [
        "num_encoder_tokens"
      ]
    },
    {
      "cell_type": "code",
      "execution_count": null,
      "metadata": {
        "colab": {
          "base_uri": "https://localhost:8080/"
        },
        "id": "nYqDJfjTBtY6",
        "outputId": "10188ada-c294-4338-8661-06b307dfee15"
      },
      "outputs": [
        {
          "output_type": "execute_result",
          "data": {
            "text/plain": [
              "30"
            ]
          },
          "metadata": {},
          "execution_count": 41
        }
      ],
      "source": [
        "num_decoder_tokens"
      ]
    },
    {
      "cell_type": "code",
      "execution_count": null,
      "metadata": {
        "colab": {
          "base_uri": "https://localhost:8080/"
        },
        "id": "FEmI7ntrBtY7",
        "outputId": "fd14f677-2a6c-4a3b-ab19-83d3062cbe59"
      },
      "outputs": [
        {
          "output_type": "execute_result",
          "data": {
            "text/plain": [
              "(120000, 44, 28)"
            ]
          },
          "metadata": {},
          "execution_count": 42
        }
      ],
      "source": [
        "encoder_input_data.shape"
      ]
    },
    {
      "cell_type": "code",
      "execution_count": null,
      "metadata": {
        "colab": {
          "base_uri": "https://localhost:8080/"
        },
        "id": "xRQ4bresBtY7",
        "outputId": "fcfaa670-5718-4213-a32e-d1f989d36b57"
      },
      "outputs": [
        {
          "output_type": "execute_result",
          "data": {
            "text/plain": [
              "(120000, 87, 30)"
            ]
          },
          "metadata": {},
          "execution_count": 43
        }
      ],
      "source": [
        "decoder_input_data.shape"
      ]
    },
    {
      "cell_type": "code",
      "execution_count": null,
      "metadata": {
        "colab": {
          "base_uri": "https://localhost:8080/"
        },
        "id": "EWZdORugBtY7",
        "outputId": "e0a5c64e-f937-4a3b-c3a8-b88823e9486a"
      },
      "outputs": [
        {
          "output_type": "execute_result",
          "data": {
            "text/plain": [
              "(120000, 87, 30)"
            ]
          },
          "metadata": {},
          "execution_count": 44
        }
      ],
      "source": [
        "decoder_target_data.shape"
      ]
    },
    {
      "cell_type": "code",
      "execution_count": null,
      "metadata": {
        "id": "MoDBNWPWBtY8"
      },
      "outputs": [],
      "source": [
        "rand_indices = numpy.random.permutation(120000)\n",
        "train_indices = rand_indices[0:96000]\n",
        "valid_indices = rand_indices[96000:108000]\n",
        "test_indices = rand_indices[108000:120000]\n",
        "\n",
        "\n",
        "encoder_input_data_train = encoder_input_data[train_indices,:]\n",
        "encoder_input_data_valid = encoder_input_data[valid_indices,:]\n",
        "encoder_input_data_test = encoder_input_data[test_indices,:] \n",
        "\n",
        "decoder_input_data_train = decoder_input_data[train_indices,:]\n",
        "decoder_input_data_valid = decoder_input_data[valid_indices,:]\n",
        "decoder_input_data_test = decoder_input_data[test_indices,:] \n",
        "\n",
        "\n",
        "decoder_target_data_train = decoder_target_data[train_indices,:]\n",
        "decoder_target_data_valid = decoder_target_data[valid_indices,:]\n",
        "decoder_target_data_test = decoder_target_data[test_indices,:] "
      ]
    },
    {
      "cell_type": "markdown",
      "metadata": {
        "id": "8sRBPSs3BtY8"
      },
      "source": [
        "### 5.2 Retrain your previous Bidirectional LSTM model with training and validation data and tune the parameters (learning rate, optimizer, etc) based on validation score. (25 points)\n",
        "\n",
        "1. Use the model structure in section 3 to train a new model with new training and validation datasets.\n",
        "2. Based on validation BLEU score or loss to tune parameters."
      ]
    },
    {
      "cell_type": "code",
      "execution_count": null,
      "metadata": {
        "id": "J7bxHwZ_BtY9"
      },
      "outputs": [],
      "source": [
        "model.compile(optimizer='adamax', loss='categorical_crossentropy')\n",
        "\n",
        "model.fit([encoder_input_data_train, decoder_input_data_train],  # training data\n",
        "          decoder_target_data_train,                       # labels (left shift of the target sequences)\n",
        "              batch_size=512, epochs=20, validation_data=([encoder_input_data_valid, decoder_input_data_valid], decoder_target_data_valid))\n",
        "\n",
        "model.save('seq2seq_tune.h5')"
      ]
    },
    {
      "cell_type": "code",
      "execution_count": null,
      "metadata": {
        "id": "-zurtPEyBtY9"
      },
      "outputs": [],
      "source": [
        "input_test_texts = input_texts[test_indices]\n",
        "target_texts = numpy.array(target_texts)\n",
        "target_test_texts = target_texts[test_indices]\n",
        "predicted_sentences = []"
      ]
    },
    {
      "cell_type": "code",
      "execution_count": null,
      "metadata": {
        "id": "l7GCoqYaBtY9"
      },
      "outputs": [],
      "source": [
        "len(input_test_texts)"
      ]
    },
    {
      "cell_type": "code",
      "execution_count": null,
      "metadata": {
        "id": "ArVSN3kjBtY-"
      },
      "outputs": [],
      "source": [
        "target_texts.shape"
      ]
    },
    {
      "cell_type": "code",
      "execution_count": null,
      "metadata": {
        "id": "YEK9H-SQBtY-"
      },
      "outputs": [],
      "source": [
        "len(target_test_texts)"
      ]
    },
    {
      "cell_type": "code",
      "execution_count": null,
      "metadata": {
        "id": "QzpyTx05BtY-"
      },
      "outputs": [],
      "source": [
        "# Take one sequence (part of the training set) for trying out decoding.\n",
        "for seq_index in range(2100, 2120):\n",
        "    input_seq = encoder_input_data_test[seq_index: seq_index + 1]\n",
        "    decoded_sentence = decode_sequence(input_seq)\n",
        "    predicted_sentences.append(decoded_sentence[0:-1])\n",
        "    print('-')\n",
        "    print('English:       ', input_test_texts[seq_index])\n",
        "    print('Spanish (true): ', target_test_texts[seq_index][1:-1])\n",
        "    print('Spanish (pred): ', decoded_sentence[0:-1])"
      ]
    },
    {
      "cell_type": "markdown",
      "metadata": {
        "id": "vp77UjsvBtY_"
      },
      "source": [
        "### 5.3 Evaluate the BLEU score using the test set. (15 points)\n",
        "\n",
        "1. Use trained model above to calculate the BLEU score with testing dataset."
      ]
    },
    {
      "cell_type": "code",
      "execution_count": null,
      "metadata": {
        "id": "qzhMdhg7BtY_"
      },
      "outputs": [],
      "source": [
        "target_list = [sentence.split() for sentence in target_test_texts[2100:2300]]\n",
        "predicted_list = [sentence.split() for sentence in predicted_sentences]\n",
        "\n",
        "smoothie = SmoothingFunction().method4\n",
        "references = target_list\n",
        "candidates = predicted_list\n",
        "\n",
        "score = corpus_bleu(references, candidates)"
      ]
    },
    {
      "cell_type": "code",
      "execution_count": null,
      "metadata": {
        "id": "Vhj4aLhABtZA"
      },
      "outputs": [],
      "source": [
        "score"
      ]
    },
    {
      "cell_type": "code",
      "execution_count": null,
      "metadata": {
        "id": "zzekjVSeBtZA"
      },
      "outputs": [],
      "source": []
    }
  ],
  "metadata": {
    "kernelspec": {
      "display_name": "Python 3 (ipykernel)",
      "language": "python",
      "name": "python3"
    },
    "language_info": {
      "codemirror_mode": {
        "name": "ipython",
        "version": 3
      },
      "file_extension": ".py",
      "mimetype": "text/x-python",
      "name": "python",
      "nbconvert_exporter": "python",
      "pygments_lexer": "ipython3",
      "version": "3.9.11"
    },
    "colab": {
      "provenance": [],
      "collapsed_sections": [
        "8sRBPSs3BtY8",
        "vp77UjsvBtY_"
      ]
    },
    "accelerator": "GPU",
    "gpuClass": "standard"
  },
  "nbformat": 4,
  "nbformat_minor": 0
}